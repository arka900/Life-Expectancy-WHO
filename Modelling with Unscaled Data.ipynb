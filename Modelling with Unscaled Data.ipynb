{
 "cells": [
  {
   "cell_type": "code",
   "execution_count": 1,
   "id": "12e78965",
   "metadata": {},
   "outputs": [],
   "source": [
    "import pandas as pd\n",
    "import numpy as np\n",
    "from sklearn.linear_model import LinearRegression\n",
    "import seaborn as sns\n",
    "import matplotlib.pyplot as plt\n",
    "import warnings\n",
    "warnings.filterwarnings('ignore')\n",
    "%matplotlib inline "
   ]
  },
  {
   "cell_type": "code",
   "execution_count": 2,
   "id": "e55804ef",
   "metadata": {},
   "outputs": [
    {
     "data": {
      "text/html": [
       "<div>\n",
       "<style scoped>\n",
       "    .dataframe tbody tr th:only-of-type {\n",
       "        vertical-align: middle;\n",
       "    }\n",
       "\n",
       "    .dataframe tbody tr th {\n",
       "        vertical-align: top;\n",
       "    }\n",
       "\n",
       "    .dataframe thead th {\n",
       "        text-align: right;\n",
       "    }\n",
       "</style>\n",
       "<table border=\"1\" class=\"dataframe\">\n",
       "  <thead>\n",
       "    <tr style=\"text-align: right;\">\n",
       "      <th></th>\n",
       "      <th>Unnamed: 0</th>\n",
       "      <th>life_expectancy</th>\n",
       "      <th>year</th>\n",
       "      <th>adult_mortality</th>\n",
       "      <th>infant_mortality</th>\n",
       "      <th>1-4_mortality</th>\n",
       "      <th>alcohol</th>\n",
       "      <th>hep_b</th>\n",
       "      <th>measles</th>\n",
       "      <th>bmi</th>\n",
       "      <th>...</th>\n",
       "      <th>national_income_capita</th>\n",
       "      <th>health_expenditure%_gdp</th>\n",
       "      <th>obesity_adlts</th>\n",
       "      <th>region_Europe &amp; Central Asia</th>\n",
       "      <th>region_Latin America &amp; Caribbean</th>\n",
       "      <th>region_Middle East &amp; North Africa</th>\n",
       "      <th>region_North America</th>\n",
       "      <th>region_South Asia</th>\n",
       "      <th>region_Sub-Saharan Africa</th>\n",
       "      <th>status_Developing</th>\n",
       "    </tr>\n",
       "  </thead>\n",
       "  <tbody>\n",
       "    <tr>\n",
       "      <th>0</th>\n",
       "      <td>0</td>\n",
       "      <td>54.8</td>\n",
       "      <td>2000.0</td>\n",
       "      <td>316.0496</td>\n",
       "      <td>0.098245</td>\n",
       "      <td>0.011050</td>\n",
       "      <td>0.01</td>\n",
       "      <td>62.0</td>\n",
       "      <td>6532.0</td>\n",
       "      <td>21.7</td>\n",
       "      <td>...</td>\n",
       "      <td>-5362.087825</td>\n",
       "      <td>5.333366</td>\n",
       "      <td>2.3</td>\n",
       "      <td>0.0</td>\n",
       "      <td>0.0</td>\n",
       "      <td>0.0</td>\n",
       "      <td>0.0</td>\n",
       "      <td>1.0</td>\n",
       "      <td>0.0</td>\n",
       "      <td>1.0</td>\n",
       "    </tr>\n",
       "    <tr>\n",
       "      <th>1</th>\n",
       "      <td>1</td>\n",
       "      <td>55.3</td>\n",
       "      <td>2001.0</td>\n",
       "      <td>307.2416</td>\n",
       "      <td>0.095925</td>\n",
       "      <td>0.010625</td>\n",
       "      <td>0.01</td>\n",
       "      <td>63.0</td>\n",
       "      <td>8762.0</td>\n",
       "      <td>21.8</td>\n",
       "      <td>...</td>\n",
       "      <td>-4738.217745</td>\n",
       "      <td>5.347639</td>\n",
       "      <td>2.4</td>\n",
       "      <td>0.0</td>\n",
       "      <td>0.0</td>\n",
       "      <td>0.0</td>\n",
       "      <td>0.0</td>\n",
       "      <td>1.0</td>\n",
       "      <td>0.0</td>\n",
       "      <td>1.0</td>\n",
       "    </tr>\n",
       "    <tr>\n",
       "      <th>2</th>\n",
       "      <td>2</td>\n",
       "      <td>56.2</td>\n",
       "      <td>2002.0</td>\n",
       "      <td>292.3430</td>\n",
       "      <td>0.093330</td>\n",
       "      <td>0.010130</td>\n",
       "      <td>0.01</td>\n",
       "      <td>64.0</td>\n",
       "      <td>2486.0</td>\n",
       "      <td>21.9</td>\n",
       "      <td>...</td>\n",
       "      <td>870.000000</td>\n",
       "      <td>9.443390</td>\n",
       "      <td>2.6</td>\n",
       "      <td>0.0</td>\n",
       "      <td>0.0</td>\n",
       "      <td>0.0</td>\n",
       "      <td>0.0</td>\n",
       "      <td>1.0</td>\n",
       "      <td>0.0</td>\n",
       "      <td>1.0</td>\n",
       "    </tr>\n",
       "    <tr>\n",
       "      <th>3</th>\n",
       "      <td>3</td>\n",
       "      <td>56.7</td>\n",
       "      <td>2003.0</td>\n",
       "      <td>286.4569</td>\n",
       "      <td>0.090470</td>\n",
       "      <td>0.009655</td>\n",
       "      <td>0.01</td>\n",
       "      <td>65.0</td>\n",
       "      <td>798.0</td>\n",
       "      <td>22.0</td>\n",
       "      <td>...</td>\n",
       "      <td>920.000000</td>\n",
       "      <td>8.941260</td>\n",
       "      <td>2.7</td>\n",
       "      <td>0.0</td>\n",
       "      <td>0.0</td>\n",
       "      <td>0.0</td>\n",
       "      <td>0.0</td>\n",
       "      <td>1.0</td>\n",
       "      <td>0.0</td>\n",
       "      <td>1.0</td>\n",
       "    </tr>\n",
       "    <tr>\n",
       "      <th>4</th>\n",
       "      <td>4</td>\n",
       "      <td>57.0</td>\n",
       "      <td>2004.0</td>\n",
       "      <td>281.8943</td>\n",
       "      <td>0.087595</td>\n",
       "      <td>0.009210</td>\n",
       "      <td>0.02</td>\n",
       "      <td>67.0</td>\n",
       "      <td>466.0</td>\n",
       "      <td>22.1</td>\n",
       "      <td>...</td>\n",
       "      <td>920.000000</td>\n",
       "      <td>9.808470</td>\n",
       "      <td>2.9</td>\n",
       "      <td>0.0</td>\n",
       "      <td>0.0</td>\n",
       "      <td>0.0</td>\n",
       "      <td>0.0</td>\n",
       "      <td>1.0</td>\n",
       "      <td>0.0</td>\n",
       "      <td>1.0</td>\n",
       "    </tr>\n",
       "  </tbody>\n",
       "</table>\n",
       "<p>5 rows × 31 columns</p>\n",
       "</div>"
      ],
      "text/plain": [
       "   Unnamed: 0  life_expectancy    year  adult_mortality  infant_mortality  \\\n",
       "0           0             54.8  2000.0         316.0496          0.098245   \n",
       "1           1             55.3  2001.0         307.2416          0.095925   \n",
       "2           2             56.2  2002.0         292.3430          0.093330   \n",
       "3           3             56.7  2003.0         286.4569          0.090470   \n",
       "4           4             57.0  2004.0         281.8943          0.087595   \n",
       "\n",
       "   1-4_mortality  alcohol  hep_b  measles   bmi  ...  national_income_capita  \\\n",
       "0       0.011050     0.01   62.0   6532.0  21.7  ...            -5362.087825   \n",
       "1       0.010625     0.01   63.0   8762.0  21.8  ...            -4738.217745   \n",
       "2       0.010130     0.01   64.0   2486.0  21.9  ...              870.000000   \n",
       "3       0.009655     0.01   65.0    798.0  22.0  ...              920.000000   \n",
       "4       0.009210     0.02   67.0    466.0  22.1  ...              920.000000   \n",
       "\n",
       "   health_expenditure%_gdp  obesity_adlts  region_Europe & Central Asia  \\\n",
       "0                 5.333366            2.3                           0.0   \n",
       "1                 5.347639            2.4                           0.0   \n",
       "2                 9.443390            2.6                           0.0   \n",
       "3                 8.941260            2.7                           0.0   \n",
       "4                 9.808470            2.9                           0.0   \n",
       "\n",
       "   region_Latin America & Caribbean  region_Middle East & North Africa  \\\n",
       "0                               0.0                                0.0   \n",
       "1                               0.0                                0.0   \n",
       "2                               0.0                                0.0   \n",
       "3                               0.0                                0.0   \n",
       "4                               0.0                                0.0   \n",
       "\n",
       "   region_North America  region_South Asia  region_Sub-Saharan Africa  \\\n",
       "0                   0.0                1.0                        0.0   \n",
       "1                   0.0                1.0                        0.0   \n",
       "2                   0.0                1.0                        0.0   \n",
       "3                   0.0                1.0                        0.0   \n",
       "4                   0.0                1.0                        0.0   \n",
       "\n",
       "   status_Developing  \n",
       "0                1.0  \n",
       "1                1.0  \n",
       "2                1.0  \n",
       "3                1.0  \n",
       "4                1.0  \n",
       "\n",
       "[5 rows x 31 columns]"
      ]
     },
     "execution_count": 2,
     "metadata": {},
     "output_type": "execute_result"
    }
   ],
   "source": [
    "df = pd.read_csv('Filled Data.csv')\n",
    "df.head()"
   ]
  },
  {
   "cell_type": "code",
   "execution_count": 3,
   "id": "3f9c5297",
   "metadata": {},
   "outputs": [
    {
     "data": {
      "text/plain": [
       "Index(['Unnamed: 0', 'life_expectancy', 'year', 'adult_mortality',\n",
       "       'infant_mortality', '1-4_mortality', 'alcohol', 'hep_b', 'measles',\n",
       "       'bmi', 'polio', 'health_gov_expendt%', 'dtp3', 'hiv_aids', 'gdp',\n",
       "       'population', '5_19thinness', '5_19obesity', 'hdi', 'schooling',\n",
       "       'drinking_water', 'national_income_capita', 'health_expenditure%_gdp',\n",
       "       'obesity_adlts', 'region_Europe & Central Asia',\n",
       "       'region_Latin America & Caribbean', 'region_Middle East & North Africa',\n",
       "       'region_North America', 'region_South Asia',\n",
       "       'region_Sub-Saharan Africa', 'status_Developing'],\n",
       "      dtype='object')"
      ]
     },
     "execution_count": 3,
     "metadata": {},
     "output_type": "execute_result"
    }
   ],
   "source": [
    "df.columns"
   ]
  },
  {
   "cell_type": "code",
   "execution_count": 4,
   "id": "e9fe7c20",
   "metadata": {},
   "outputs": [],
   "source": [
    "df = df.drop(['Unnamed: 0'], axis = 1)"
   ]
  },
  {
   "cell_type": "code",
   "execution_count": 5,
   "id": "0d94598b",
   "metadata": {},
   "outputs": [],
   "source": [
    "df_plot = df.drop(['region_Europe & Central Asia', 'region_Latin America & Caribbean', 'region_Middle East & North Africa', 'region_North America','region_South Asia', 'region_Sub-Saharan Africa', 'status_Developing', 'year'], axis =1)"
   ]
  },
  {
   "cell_type": "code",
   "execution_count": 6,
   "id": "591bb0d6",
   "metadata": {},
   "outputs": [],
   "source": [
    "df_plot = df.drop(['life_expectancy'], axis =1)"
   ]
  },
  {
   "cell_type": "code",
   "execution_count": 7,
   "id": "37144efa",
   "metadata": {},
   "outputs": [
    {
     "data": {
      "text/plain": [
       "Index(['life_expectancy', 'year', 'adult_mortality', 'infant_mortality',\n",
       "       '1-4_mortality', 'alcohol', 'hep_b', 'measles', 'bmi', 'polio',\n",
       "       'health_gov_expendt%', 'dtp3', 'hiv_aids', 'gdp', 'population',\n",
       "       '5_19thinness', '5_19obesity', 'hdi', 'schooling', 'drinking_water',\n",
       "       'national_income_capita', 'health_expenditure%_gdp', 'obesity_adlts',\n",
       "       'region_Europe & Central Asia', 'region_Latin America & Caribbean',\n",
       "       'region_Middle East & North Africa', 'region_North America',\n",
       "       'region_South Asia', 'region_Sub-Saharan Africa', 'status_Developing'],\n",
       "      dtype='object')"
      ]
     },
     "execution_count": 7,
     "metadata": {},
     "output_type": "execute_result"
    }
   ],
   "source": [
    "df.columns"
   ]
  },
  {
   "cell_type": "code",
   "execution_count": null,
   "id": "7c270598",
   "metadata": {},
   "outputs": [],
   "source": [
    "p = sns.pairplot(df_plot, x_vars=df[df.columns[9:]], y_vars=df['life_expectancy'], height=3, aspect=1)\n",
    "plt.show()"
   ]
  },
  {
   "cell_type": "code",
   "execution_count": null,
   "id": "fb53e0df",
   "metadata": {},
   "outputs": [],
   "source": [
    "df.head()"
   ]
  },
  {
   "cell_type": "code",
   "execution_count": null,
   "id": "910a4074",
   "metadata": {},
   "outputs": [],
   "source": [
    "df_2 = df.drop(['alcohol','hep_b','measles','health_gov_expendt%','population','health_expenditure%_gdp'], axis = 1)\n",
    "df_2.head()"
   ]
  }
 ],
 "metadata": {
  "kernelspec": {
   "display_name": "Python 3.7.1 64-bit ('base': conda)",
   "language": "python",
   "name": "python37164bitbaseconda8641c0647cd340889281d488dfb48054"
  },
  "language_info": {
   "codemirror_mode": {
    "name": "ipython",
    "version": 3
   },
   "file_extension": ".py",
   "mimetype": "text/x-python",
   "name": "python",
   "nbconvert_exporter": "python",
   "pygments_lexer": "ipython3",
   "version": "3.7.10"
  }
 },
 "nbformat": 4,
 "nbformat_minor": 5
}
